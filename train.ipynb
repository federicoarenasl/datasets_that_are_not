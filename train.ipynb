{
 "cells": [
  {
   "cell_type": "markdown",
   "id": "685e9bac-38d1-4648-b76d-1cdc06ff489c",
   "metadata": {},
   "source": [
    "## Notebook for training AutoEncoders\n",
    "We will use this notebook for training our autoencoders. The aim of this notebook is to set up a training procedure as explaineed on the Datasets That Are Not paper."
   ]
  },
  {
   "cell_type": "code",
   "execution_count": 42,
   "id": "22da5164-41a9-47fe-97e9-aa159a4d8d43",
   "metadata": {},
   "outputs": [],
   "source": [
    "import torch\n",
    "import numpy as np\n",
    "import torchvision\n",
    "from torchvision import datasets\n",
    "import torchvision.transforms as transforms\n",
    "from tqdm import tqdm\n",
    "from torch.utils.tensorboard import SummaryWriter\n",
    "import random"
   ]
  },
  {
   "cell_type": "markdown",
   "id": "4ef8e9d5-54d7-4db6-be2f-6deab3e84728",
   "metadata": {},
   "source": [
    "Make sure the current device is logged"
   ]
  },
  {
   "cell_type": "code",
   "execution_count": 4,
   "id": "f133fd72-47e6-48f4-8962-a235ae53a82c",
   "metadata": {},
   "outputs": [
    {
     "name": "stdout",
     "output_type": "stream",
     "text": [
      "Torch running on cuda\n"
     ]
    }
   ],
   "source": [
    "device = torch.device('cuda' if torch.cuda.is_available() else 'cpu')\n",
    "print(f\"Torch running on {device}\")"
   ]
  },
  {
   "cell_type": "markdown",
   "id": "167f870e-e9b0-4186-bc66-90bc43a09989",
   "metadata": {},
   "source": [
    "### Import and prepare MNIST dataset\n",
    "We will work with the MNIST dataset for experimenation and setup. Let's download it using the handy `torchvision.MNIST` datasets. We will first prepare our train and validation splits."
   ]
  },
  {
   "cell_type": "code",
   "execution_count": 44,
   "id": "96caac9e-c43e-4587-8d70-37f20d385f2d",
   "metadata": {},
   "outputs": [],
   "source": [
    "# convert data to torch.FloatTensor\n",
    "transform = transforms.ToTensor()\n",
    "\n",
    "# load the training and test datasets\n",
    "mnist_dataset = datasets.MNIST(root='~/.pytorch/MNIST_data/', train=True,\n",
    "                                   download=True, transform=transform)\n",
    "\n",
    "# Define the split ratio for validation data\n",
    "validation_split = 0.2\n",
    "num_train = len(mnist_dataset)\n",
    "indices = list(range(num_train))\n",
    "split = int(validation_split * num_train)\n",
    "\n",
    "# Shuffle the indices\n",
    "random.seed(42)  # For reproducibility\n",
    "random.shuffle(indices)\n",
    "\n",
    "# Split the indices into training and validation sets\n",
    "train_indices, val_indices = indices[split:], indices[:split]"
   ]
  },
  {
   "cell_type": "markdown",
   "id": "a682d0e0-3b86-406d-8842-c2e6fde0d168",
   "metadata": {},
   "source": [
    "### Prepare dataloaders\n",
    "The dataloaders will be helpful to let us access the dataset in batches during training."
   ]
  },
  {
   "cell_type": "code",
   "execution_count": 48,
   "id": "572b71fc-5f97-41f4-b544-ef9014e200f9",
   "metadata": {},
   "outputs": [],
   "source": [
    "# Create data loaders for training and validation\n",
    "train_sampler = torch.utils.data.SubsetRandomSampler(train_indices)\n",
    "val_sampler = torch.utils.data.SubsetRandomSampler(val_indices)\n",
    "\n",
    "batch_size = 32\n",
    "train_dataloader = torch.utils.data.DataLoader(mnist_dataset, batch_size=batch_size, sampler=train_sampler)\n",
    "validation_dataloader = torch.utils.data.DataLoader(mnist_dataset, batch_size=batch_size, sampler=val_sampler)"
   ]
  },
  {
   "cell_type": "markdown",
   "id": "93591448-7bfc-444a-8801-862eb3495153",
   "metadata": {},
   "source": [
    "Visualize the data"
   ]
  },
  {
   "cell_type": "code",
   "execution_count": 17,
   "id": "bc007e80-5311-4c04-9a1a-083e3fc731db",
   "metadata": {},
   "outputs": [],
   "source": [
    "import matplotlib.pyplot as plt\n",
    "%matplotlib inline\n",
    "    \n",
    "# obtain one batch of training images\n",
    "images, labels = train_data.__getitem__(0)\n",
    "images = images.numpy()\n",
    "\n",
    "# get one image from the batch\n",
    "img = np.squeeze(images[0])\n",
    "\n",
    "fig = plt.figure(figsize = (2,2)) \n",
    "ax = fig.add_subplot(111)\n",
    "ax.imshow(img, cmap='gray')"
   ]
  },
  {
   "cell_type": "markdown",
   "id": "e972c943-8995-4359-9ef9-d68e310193e8",
   "metadata": {},
   "source": [
    "## Train Autoencoder\n",
    "Let's train our Autoencoder architecture with a basic training loop to verify outputs and such."
   ]
  },
  {
   "cell_type": "markdown",
   "id": "0fa5ec21-82b3-41af-837a-c2fbb3c86f92",
   "metadata": {},
   "source": [
    "Import the model from our models repository"
   ]
  },
  {
   "cell_type": "code",
   "execution_count": 70,
   "id": "a1b59763-893c-4040-96f4-002abc6f7024",
   "metadata": {},
   "outputs": [],
   "source": [
    "from models.autoencoder import ConvAutoencoder"
   ]
  },
  {
   "cell_type": "code",
   "execution_count": 71,
   "id": "72465430-eaaa-4040-945e-2319343269d9",
   "metadata": {},
   "outputs": [],
   "source": [
    "model = ConvAutoencoder()\n",
    "model.to(device)\n",
    "print(f\"Model architecture:\\n\\n{model}\")"
   ]
  },
  {
   "cell_type": "markdown",
   "id": "21c27a60-a1dd-4ae4-8b91-a56cac29f495",
   "metadata": {},
   "source": [
    "Set up basic training hyper parameters and TensorBoard training visualizer"
   ]
  },
  {
   "cell_type": "code",
   "execution_count": 72,
   "id": "22c125f7-881c-4b04-8986-da34af400462",
   "metadata": {},
   "outputs": [],
   "source": [
    "LEARNING_RATE = 0.001\n",
    "N_EPOCHS = 10\n",
    "VISUALIZE_EVERY = 1\n",
    "writer = SummaryWriter('logs')\n",
    "i=0"
   ]
  },
  {
   "cell_type": "markdown",
   "id": "6f88a704-43cf-4e6d-b2a5-96679d7328d4",
   "metadata": {},
   "source": [
    "Configure basic optimizer with basic loss function."
   ]
  },
  {
   "cell_type": "code",
   "execution_count": 73,
   "id": "ff8629ec-a8b6-47f2-ac9e-4eeaedfac4c0",
   "metadata": {},
   "outputs": [],
   "source": [
    "criterion = nn.MSELoss()\n",
    "optimizer = torch.optim.Adam(model.parameters(), lr=LEARNING_RATE)"
   ]
  },
  {
   "cell_type": "markdown",
   "id": "965b5187-7c28-4220-b1e4-bc92c3e878e2",
   "metadata": {},
   "source": [
    "Train model for `N_EPOCHS`:"
   ]
  },
  {
   "cell_type": "code",
   "execution_count": 74,
   "id": "e33b73e7-657e-4bdb-a98e-3bd2a319c2de",
   "metadata": {},
   "outputs": [
    {
     "name": "stdout",
     "output_type": "stream",
     "text": [
      "Training network...\n"
     ]
    },
    {
     "name": "stderr",
     "output_type": "stream",
     "text": [
      "100%|███████████████████████████████████████████| 10/10 [01:29<00:00,  8.91s/it]\n"
     ]
    }
   ],
   "source": [
    "print(f\"Training network...\")\n",
    "for epoch in tqdm(range(0,N_EPOCHS)):\n",
    "    train_loss = 0.0\n",
    "    for i, (images, _) in enumerate(train_loader):\n",
    "        optimizer.zero_grad()\n",
    "        images = images.to(device)\n",
    "        out = model(images)\n",
    "        loss = criterion(out, images)\n",
    "        loss.backward()\n",
    "        optimizer.step()\n",
    "        train_loss += loss.item()*images.size(0)\n",
    "        writer.add_scalar(f\"train_loss\", loss.item(), i)\n",
    "        i+=images.size(0)\n",
    "        \n",
    "    if epoch%VISUALIZE_EVERY == 0:\n",
    "        with torch.no_grad():\n",
    "            val_mages, _ = next(iter(validation_dataloader))\n",
    "            val_images = val_images.to(device)\n",
    "            \n",
    "            # Forward pass\n",
    "            output = model(val_images)\n",
    "            \n",
    "            # Log images to TensorBoard\n",
    "            writer.add_images('Input Images', val_images, global_step=epoch)\n",
    "            writer.add_images('Reconstructed Images', output, global_step=epoch)\n",
    "        \n",
    "    # print avg training statistics \n",
    "    train_loss = train_loss/len(train_loader)\n",
    "    writer.add_scalar(f\"avg_train_loss\", train_loss, epoch)"
   ]
  },
  {
   "cell_type": "code",
   "execution_count": null,
   "id": "2877ad15-2d12-45c2-802a-50ba2cb471c5",
   "metadata": {},
   "outputs": [],
   "source": []
  }
 ],
 "metadata": {
  "kernelspec": {
   "display_name": "Python 3 (ipykernel)",
   "language": "python",
   "name": "python3"
  },
  "language_info": {
   "codemirror_mode": {
    "name": "ipython",
    "version": 3
   },
   "file_extension": ".py",
   "mimetype": "text/x-python",
   "name": "python",
   "nbconvert_exporter": "python",
   "pygments_lexer": "ipython3",
   "version": "3.10.12"
  }
 },
 "nbformat": 4,
 "nbformat_minor": 5
}
