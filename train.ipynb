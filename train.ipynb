{
 "cells": [
  {
   "cell_type": "markdown",
   "id": "685e9bac-38d1-4648-b76d-1cdc06ff489c",
   "metadata": {},
   "source": [
    "## Notebook for training AutoEncoders\n",
    "We will use this notebook for training our autoencoders. The aim of this notebook is to set up a training procedure as explaineed on the Datasets That Are Not paper."
   ]
  },
  {
   "cell_type": "code",
   "execution_count": null,
   "id": "22da5164-41a9-47fe-97e9-aa159a4d8d43",
   "metadata": {},
   "outputs": [],
   "source": [
    "import torch\n",
    "import numpy as np\n",
    "from datetime import datetime\n",
    "import torchvision\n",
    "from torchvision import datasets\n",
    "import torchvision.transforms as transforms\n",
    "from tqdm import tqdm\n",
    "from torch.utils.tensorboard import SummaryWriter\n",
    "import random"
   ]
  },
  {
   "cell_type": "markdown",
   "id": "4ef8e9d5-54d7-4db6-be2f-6deab3e84728",
   "metadata": {},
   "source": [
    "Make sure the current device is logged"
   ]
  },
  {
   "cell_type": "code",
   "execution_count": null,
   "id": "f133fd72-47e6-48f4-8962-a235ae53a82c",
   "metadata": {},
   "outputs": [],
   "source": [
    "device = torch.device(\"cuda\" if torch.cuda.is_available() else \"cpu\")\n",
    "print(f\"Torch running on {device}\")"
   ]
  },
  {
   "cell_type": "markdown",
   "id": "167f870e-e9b0-4186-bc66-90bc43a09989",
   "metadata": {},
   "source": [
    "### Import and prepare MNIST dataset\n",
    "We will work with the MNIST dataset for experimenation and setup. Let's download it using the handy `torchvision.MNIST` datasets. We will first prepare our train and validation splits."
   ]
  },
  {
   "cell_type": "code",
   "execution_count": null,
   "id": "96caac9e-c43e-4587-8d70-37f20d385f2d",
   "metadata": {},
   "outputs": [],
   "source": [
    "# convert data to torch.FloatTensor\n",
    "transform = transforms.ToTensor()\n",
    "\n",
    "# load the training and test datasets\n",
    "mnist_dataset = datasets.MNIST(\n",
    "    root=\"~/.pytorch/MNIST_data/\", train=True, download=True, transform=transform\n",
    ")\n",
    "\n",
    "# Define the split ratio for validation data\n",
    "validation_split = 0.2\n",
    "num_train = len(mnist_dataset)\n",
    "indices = list(range(num_train))\n",
    "split = int(validation_split * num_train)\n",
    "\n",
    "# Shuffle the indices\n",
    "random.seed(42)  # For reproducibility\n",
    "random.shuffle(indices)\n",
    "\n",
    "# Split the indices into training and validation sets\n",
    "train_indices, val_indices = indices[split:], indices[:split]"
   ]
  },
  {
   "cell_type": "markdown",
   "id": "a682d0e0-3b86-406d-8842-c2e6fde0d168",
   "metadata": {},
   "source": [
    "### Prepare dataloaders\n",
    "The dataloaders will be helpful to let us access the dataset in batches during training."
   ]
  },
  {
   "cell_type": "code",
   "execution_count": null,
   "id": "572b71fc-5f97-41f4-b544-ef9014e200f9",
   "metadata": {},
   "outputs": [],
   "source": [
    "# Create data loaders for training and validation\n",
    "train_sampler = torch.utils.data.SubsetRandomSampler(train_indices)\n",
    "val_sampler = torch.utils.data.SubsetRandomSampler(val_indices)\n",
    "\n",
    "batch_size = 32\n",
    "train_dataloader = torch.utils.data.DataLoader(\n",
    "    mnist_dataset, batch_size=batch_size, sampler=train_sampler\n",
    ")\n",
    "validation_dataloader = torch.utils.data.DataLoader(\n",
    "    mnist_dataset, batch_size=batch_size, sampler=val_sampler\n",
    ")"
   ]
  },
  {
   "cell_type": "markdown",
   "id": "93591448-7bfc-444a-8801-862eb3495153",
   "metadata": {},
   "source": [
    "Visualize the data"
   ]
  },
  {
   "cell_type": "code",
   "execution_count": null,
   "id": "bc007e80-5311-4c04-9a1a-083e3fc731db",
   "metadata": {},
   "outputs": [],
   "source": [
    "import matplotlib.pyplot as plt\n",
    "%matplotlib inline\n",
    "    \n",
    "# obtain one batch of training images\n",
    "images, labels = next(iter(train_dataloader))\n",
    "images = images.numpy()\n",
    "\n",
    "# get one image from the batch\n",
    "img = np.squeeze(images[0])\n",
    "\n",
    "fig = plt.figure(figsize = (2,2)) \n",
    "ax = fig.add_subplot(111)\n",
    "ax.imshow(img, cmap='gray')"
   ]
  },
  {
   "cell_type": "markdown",
   "id": "da3b0092",
   "metadata": {},
   "source": [
    "Import implemented models and training loop."
   ]
  },
  {
   "cell_type": "code",
   "execution_count": null,
   "id": "a1b59763-893c-4040-96f4-002abc6f7024",
   "metadata": {},
   "outputs": [],
   "source": [
    "from models.convautoencoders import (\n",
    "    ConvAutoencoder,\n",
    "    WTASpatialConvAutoencoder,\n",
    "    WTALifetimeSparseConvAutoencoder,\n",
    "    WTASpatialLifetimeSparseConvAutoencoder\n",
    ")\n",
    "from torch import nn\n",
    "from train import train_for_n_epochs"
   ]
  },
  {
   "cell_type": "markdown",
   "id": "e972c943-8995-4359-9ef9-d68e310193e8",
   "metadata": {
    "jp-MarkdownHeadingCollapsed": true
   },
   "source": [
    "## Train Vanilla Convolutional Autoencoder\n",
    "Let's train our Autoencoder architecture with a basic training loop to verify outputs and such."
   ]
  },
  {
   "cell_type": "markdown",
   "id": "0fa5ec21-82b3-41af-837a-c2fbb3c86f92",
   "metadata": {},
   "source": [
    "Import the model from our models repository"
   ]
  },
  {
   "cell_type": "code",
   "execution_count": null,
   "id": "72465430-eaaa-4040-945e-2319343269d9",
   "metadata": {},
   "outputs": [],
   "source": [
    "model = ConvAutoencoder()\n",
    "model.to(device)\n",
    "print(f\"Model architecture:\\n\\n{model}\")"
   ]
  },
  {
   "cell_type": "markdown",
   "id": "21c27a60-a1dd-4ae4-8b91-a56cac29f495",
   "metadata": {},
   "source": [
    "Set up basic training hyper parameters and TensorBoard training visualizer"
   ]
  },
  {
   "cell_type": "code",
   "execution_count": null,
   "id": "22c125f7-881c-4b04-8986-da34af400462",
   "metadata": {},
   "outputs": [],
   "source": [
    "LEARNING_RATE = 0.001\n",
    "N_EPOCHS = 10\n",
    "VISUALIZE_EVERY = 1"
   ]
  },
  {
   "cell_type": "markdown",
   "id": "6f88a704-43cf-4e6d-b2a5-96679d7328d4",
   "metadata": {},
   "source": [
    "Configure basic optimizer with basic loss function."
   ]
  },
  {
   "cell_type": "code",
   "execution_count": null,
   "id": "ff8629ec-a8b6-47f2-ac9e-4eeaedfac4c0",
   "metadata": {},
   "outputs": [],
   "source": [
    "criterion = nn.MSELoss()\n",
    "optimizer = torch.optim.Adam(model.parameters(), lr=LEARNING_RATE)"
   ]
  },
  {
   "cell_type": "markdown",
   "id": "965b5187-7c28-4220-b1e4-bc92c3e878e2",
   "metadata": {},
   "source": [
    "Train model for `N_EPOCHS`:"
   ]
  },
  {
   "cell_type": "code",
   "execution_count": null,
   "id": "e33b73e7-657e-4bdb-a98e-3bd2a319c2de",
   "metadata": {},
   "outputs": [],
   "source": [
    "train_for_n_epochs(\n",
    "    N_EPOCHS,\n",
    "    VISUALIZE_EVERY,\n",
    "    model,\n",
    "    train_dataloader,\n",
    "    validation_dataloader,\n",
    "    optimizer,\n",
    "    criterion,\n",
    "    device,\n",
    ")"
   ]
  },
  {
   "cell_type": "markdown",
   "id": "b9bc2fed",
   "metadata": {
    "jp-MarkdownHeadingCollapsed": true
   },
   "source": [
    "## Train Winner Takes All Convolutional Autoencoder with Spatial Sparsity\n",
    "Let's train our Autoencoder architecture with a basic training loop to verify outputs and such."
   ]
  },
  {
   "cell_type": "markdown",
   "id": "a54d3ef9",
   "metadata": {},
   "source": [
    "Import the model from our models repository"
   ]
  },
  {
   "cell_type": "code",
   "execution_count": null,
   "id": "bb682a0b",
   "metadata": {},
   "outputs": [],
   "source": [
    "wta_model = WTASpatialConvAutoencoder()\n",
    "wta_model.to(device)\n",
    "print(f\"Model architecture:\\n\\n{wta_model}\")"
   ]
  },
  {
   "cell_type": "markdown",
   "id": "059fec03",
   "metadata": {},
   "source": [
    "Set up basic training hyper parameters and TensorBoard training visualizer"
   ]
  },
  {
   "cell_type": "code",
   "execution_count": null,
   "id": "3e507208",
   "metadata": {},
   "outputs": [],
   "source": [
    "LEARNING_RATE = 0.001\n",
    "N_EPOCHS = 10\n",
    "VISUALIZE_EVERY = 1"
   ]
  },
  {
   "cell_type": "markdown",
   "id": "08bc5028",
   "metadata": {},
   "source": [
    "Configure basic optimizer with basic loss function."
   ]
  },
  {
   "cell_type": "code",
   "execution_count": null,
   "id": "8812704b",
   "metadata": {},
   "outputs": [],
   "source": [
    "criterion = nn.MSELoss()\n",
    "optimizer = torch.optim.Adam(wta_model.parameters(), lr=LEARNING_RATE)"
   ]
  },
  {
   "cell_type": "markdown",
   "id": "9ace31db",
   "metadata": {},
   "source": [
    "Train model for `N_EPOCHS`:\n",
    "- TODO: This still doesn't work, the sizes inside the model don't match. We have to investigate, but my theory is the maxpooling might be messing things up inside of the architecture."
   ]
  },
  {
   "cell_type": "code",
   "execution_count": null,
   "id": "a025fb70",
   "metadata": {},
   "outputs": [],
   "source": [
    "train_for_n_epochs(\n",
    "    N_EPOCHS,\n",
    "    VISUALIZE_EVERY,\n",
    "    wta_model,\n",
    "    train_dataloader,\n",
    "    validation_dataloader,\n",
    "    optimizer,\n",
    "    criterion,\n",
    "    device,\n",
    ")"
   ]
  },
  {
   "cell_type": "markdown",
   "id": "b49c485b-4b97-475c-97fc-eefe9edc7be6",
   "metadata": {
    "jp-MarkdownHeadingCollapsed": true
   },
   "source": [
    "## Train Winner Takes All Convolutional Autoencoder with Lifetime Sparsity\n",
    "Let's train our Autoencoder architecture with a basic training loop to verify outputs and such."
   ]
  },
  {
   "cell_type": "markdown",
   "id": "e62a6c83-20b6-482c-965d-440080b5851e",
   "metadata": {},
   "source": [
    "Import the model from our models repository"
   ]
  },
  {
   "cell_type": "code",
   "execution_count": null,
   "id": "b1a7485e-d299-4287-b3b9-502339421df8",
   "metadata": {},
   "outputs": [],
   "source": [
    "wta_lifetime_model = WTALifetimeSparseConvAutoencoder(k_percentage=0.9)\n",
    "wta_lifetime_model.to(device)\n",
    "print(f\"Model architecture:\\n\\n{wta_lifetime_model}\")"
   ]
  },
  {
   "cell_type": "markdown",
   "id": "3b5fbc1a-70b5-472d-9bbb-9b8c355d6e3f",
   "metadata": {},
   "source": [
    "Set up basic training hyper parameters and TensorBoard training visualizer"
   ]
  },
  {
   "cell_type": "code",
   "execution_count": null,
   "id": "dd8461f2-0f3b-4242-8a97-0f1bd9cf5182",
   "metadata": {},
   "outputs": [],
   "source": [
    "LEARNING_RATE = 0.001\n",
    "N_EPOCHS = 30\n",
    "VISUALIZE_EVERY = 1"
   ]
  },
  {
   "cell_type": "markdown",
   "id": "c6f3bb40-b7b7-48ef-9dc2-d90d37101fa1",
   "metadata": {},
   "source": [
    "Configure basic optimizer with basic loss function."
   ]
  },
  {
   "cell_type": "code",
   "execution_count": null,
   "id": "7954f185-6baf-48ff-b4a5-1c683f54e178",
   "metadata": {},
   "outputs": [],
   "source": [
    "criterion = nn.MSELoss()\n",
    "optimizer = torch.optim.Adam(wta_lifetime_model.parameters(), lr=LEARNING_RATE)"
   ]
  },
  {
   "cell_type": "markdown",
   "id": "d827ca7e-f752-4415-95fc-930ddd64f68a",
   "metadata": {},
   "source": [
    "Train model for `N_EPOCHS`:\n",
    "- TODO: This still doesn't work, the sizes inside the model don't match. We have to investigate, but my theory is the maxpooling might be messing things up inside of the architecture."
   ]
  },
  {
   "cell_type": "code",
   "execution_count": null,
   "id": "156911bb-07b9-40e7-845b-55ad33374c65",
   "metadata": {},
   "outputs": [],
   "source": [
    "train_for_n_epochs(\n",
    "    N_EPOCHS,\n",
    "    VISUALIZE_EVERY,\n",
    "    wta_lifetime_model,\n",
    "    train_dataloader,\n",
    "    validation_dataloader,\n",
    "    optimizer,\n",
    "    criterion,\n",
    "    device,\n",
    ")"
   ]
  },
  {
   "cell_type": "markdown",
   "id": "feb677e3-285d-4f17-b924-6321452d7001",
   "metadata": {},
   "source": [
    "## Train Winner Takes All Convolutional Autoencoder with Spatial Sparsity and Lifetime Sparsity\n",
    "Let's train our Autoencoder architecture with a basic training loop to verify outputs and such.\n",
    "\n",
    "We'll do the following:\n",
    "- Import the model from our models repository\n",
    "- Set up basic training hyper parameters and TensorBoard training visualizer\n",
    "- Configure basic optimizer with basic loss function."
   ]
  },
  {
   "cell_type": "code",
   "execution_count": null,
   "id": "50262cfe-752a-4c35-9015-101cf27a9a93",
   "metadata": {},
   "outputs": [],
   "source": [
    "# Setup simple hyperparameters\n",
    "LEARNING_RATE = 0.001\n",
    "N_EPOCHS = 10\n",
    "VISUALIZE_EVERY = 1\n",
    "K_PERCENTAGE=0.05"
   ]
  },
  {
   "cell_type": "code",
   "execution_count": null,
   "id": "639c98bf-ef6c-4f59-a21a-e58c8940efd4",
   "metadata": {},
   "outputs": [],
   "source": [
    "# Initialize model\n",
    "wta_spatial_lifetime_model = WTASpatialLifetimeSparseConvAutoencoder(k_percentage=K_PERCENTAGE)\n",
    "wta_spatial_lifetime_model.to(device)\n",
    "print(f\"Model architecture:\\n\\n{wta_spatial_lifetime_model}\")\n",
    "# Define loss function and optimizer\n",
    "criterion = nn.MSELoss()\n",
    "optimizer = torch.optim.Adam(wta_spatial_lifetime_model.parameters(), lr=LEARNING_RATE)"
   ]
  },
  {
   "cell_type": "markdown",
   "id": "9089f006-0cba-4045-8374-4a909c2afba7",
   "metadata": {},
   "source": [
    "Train model for `N_EPOCHS`."
   ]
  },
  {
   "cell_type": "code",
   "execution_count": null,
   "id": "1075548f-70dc-44fd-b496-e1ed90c8a4d6",
   "metadata": {},
   "outputs": [],
   "source": [
    "# Setup summary writer and set training going\n",
    "writer = SummaryWriter(\n",
    "        f\"logs/{wta_spatial_lifetime_model.name}_{K_PERCENTAGE}_{datetime.now().strftime('%Y%m%d-%H%M%S')}\"\n",
    "    )\n",
    "train_for_n_epochs(\n",
    "    N_EPOCHS,\n",
    "    VISUALIZE_EVERY,\n",
    "    wta_spatial_lifetime_model,\n",
    "    train_dataloader,\n",
    "    validation_dataloader,\n",
    "    optimizer,\n",
    "    criterion,\n",
    "    device,\n",
    "    writer\n",
    ")"
   ]
  },
  {
   "cell_type": "markdown",
   "id": "c918eb89-5a76-4b71-b410-d37ab0d864aa",
   "metadata": {},
   "source": [
    "Experiment with multiple percentages from `0.1` to `1`:"
   ]
  },
  {
   "cell_type": "code",
   "execution_count": null,
   "id": "bd5559ef-4f19-4e14-ba61-0fd0563bd7e2",
   "metadata": {},
   "outputs": [],
   "source": [
    "K_PERCENTAGES=np.linspace(0.1,1, 10)"
   ]
  },
  {
   "cell_type": "code",
   "execution_count": null,
   "id": "0611de18-1c9f-48f9-a5b8-706580504f8a",
   "metadata": {},
   "outputs": [],
   "source": [
    "for K_PERCENTAGE in K_PERCENTAGES:\n",
    "    print(f\"Training WTA Autoencoder with lifetime sparsity k% {K_PERCENTAGE}.\")\n",
    "    # Initialize model\n",
    "    wta_spatial_lifetime_model = WTASpatialLifetimeSparseConvAutoencoder(k_percentage=K_PERCENTAGE)\n",
    "    wta_spatial_lifetime_model.to(device)\n",
    "    print(f\"Model architecture:\\n\\n{wta_spatial_lifetime_model}\")\n",
    "    # Define loss function and optimizer\n",
    "    criterion = nn.MSELoss()\n",
    "    optimizer = torch.optim.Adam(wta_spatial_lifetime_model.parameters(), lr=LEARNING_RATE)\n",
    "    # Setup summary writer and set training going\n",
    "    writer = SummaryWriter(\n",
    "            f\"logs/{wta_spatial_lifetime_model.name}_{K_PERCENTAGE}_{datetime.now().strftime('%Y%m%d-%H%M%S')}\"\n",
    "        )\n",
    "    train_for_n_epochs(\n",
    "        N_EPOCHS,\n",
    "        VISUALIZE_EVERY,\n",
    "        wta_spatial_lifetime_model,\n",
    "        train_dataloader,\n",
    "        validation_dataloader,\n",
    "        optimizer,\n",
    "        criterion,\n",
    "        device,\n",
    "        writer\n",
    "    )"
   ]
  },
  {
   "cell_type": "code",
   "execution_count": null,
   "id": "08ca4f9c-76b3-4275-a5bc-3a08005b102b",
   "metadata": {},
   "outputs": [],
   "source": []
  }
 ],
 "metadata": {
  "kernelspec": {
   "display_name": "Python 3 (ipykernel)",
   "language": "python",
   "name": "python3"
  },
  "language_info": {
   "codemirror_mode": {
    "name": "ipython",
    "version": 3
   },
   "file_extension": ".py",
   "mimetype": "text/x-python",
   "name": "python",
   "nbconvert_exporter": "python",
   "pygments_lexer": "ipython3",
   "version": "3.10.12"
  }
 },
 "nbformat": 4,
 "nbformat_minor": 5
}
